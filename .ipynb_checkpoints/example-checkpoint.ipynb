{
 "cells": [
  {
   "cell_type": "code",
   "execution_count": 1,
   "metadata": {
    "pycharm": {
     "name": "#%%\n"
    }
   },
   "outputs": [],
   "source": [
    "import TIVlib as tiv\n",
    "import numpy as np"
   ]
  },
  {
   "cell_type": "code",
   "execution_count": 2,
   "metadata": {},
   "outputs": [],
   "source": [
    "from essentia.standard import MonoLoader, Windowing, Spectrum, SpectralPeaks, FrameGenerator, HPCP\n",
    "\n",
    "def file_to_hpcp(filename):\n",
    "    audio = MonoLoader(filename=filename)()\n",
    "    windowing = Windowing(type='blackmanharris62')\n",
    "    spectrum = Spectrum()\n",
    "    spectral_peaks = SpectralPeaks(orderBy='magnitude',\n",
    "                                    magnitudeThreshold=0.001,\n",
    "                                    maxPeaks=20,\n",
    "                                    minFrequency=20,\n",
    "                                    maxFrequency=8000)\n",
    "    hpcp = HPCP(maxFrequency=8000)#,\n",
    "                #normalized='unitSum') #VERIFICAR QUE ISTO E O Q FAZ SENTIDO FAZER\n",
    "\n",
    "    spec_group = []\n",
    "    hpcp_group = []\n",
    "\n",
    "\n",
    "    for frame in FrameGenerator(audio,frameSize=1024,hopSize=512):\n",
    "        windowed = windowing(frame)\n",
    "        fft = spectrum(windowed)\n",
    "        frequencies, magnitudes = spectral_peaks(fft)\n",
    "        final_hpcp = hpcp(frequencies, magnitudes)\n",
    "  \n",
    "        spec_group.append(fft)\n",
    "        hpcp_group.append(final_hpcp)\n",
    "    \n",
    "    mean_hpcp = np.mean(np.array(hpcp_group).T, axis = 1)\n",
    "    return mean_hpcp\n"
   ]
  },
  {
   "cell_type": "code",
   "execution_count": 3,
   "metadata": {},
   "outputs": [],
   "source": [
    "import librosa\n",
    "\n",
    "def file_to_chroma(filename):\n",
    "    audio = librosa.core.load(filename)\n",
    "    chromagram = librosa.feature.chroma_stft(audio)\n",
    "    print (chromagram)\n",
    "    mean_chromagram = np.mean(chromagram,axis = 0)\n",
    "    return mean_chromagram\n",
    "    "
   ]
  },
  {
   "cell_type": "code",
   "execution_count": 4,
   "metadata": {},
   "outputs": [],
   "source": [
    "#Reference: CMaj chord\n",
    "c_maj = \"./audio_files/149282__strever953__rhythmguitar-cmaj-p105.wav\"\n",
    "#Consonant chords: GMaj, Amin\n",
    "g_maj = \"./audio_files/109999__keider__gmaj-5th-position.wav\"\n",
    "a_min = \"./audio_files/8455__speedy__amin-full.wav\"\n",
    "#Dissonant chords: C#Maj, D#min\n",
    "c_sharp_maj = \"./audio_files/47848__godlesswonder__c-sharp-maj.wav\"\n",
    "d_sharp_min = \"./audio_files/47862__godlesswonder__d-sharp-min.wav\"\n",
    "\n",
    "#Calculate the HPCP for each of the chords\n",
    "c_maj_hpcp = file_to_hpcp(c_maj)\n",
    "g_maj_hpcp = file_to_hpcp(g_maj)\n",
    "a_min_hpcp = file_to_hpcp(a_min)\n",
    "c_sharp_maj_hpcp = file_to_hpcp(c_sharp_maj)\n",
    "d_sharp_min_hpcp = file_to_hpcp(d_sharp_min)\n",
    "\n",
    "#Calculate the TIV for each HPCP\n",
    "c_maj_tiv = tiv.TIV.from_pcp(c_maj_hpcp)\n",
    "g_maj_tiv = tiv.TIV.from_pcp(g_maj_hpcp)\n",
    "a_min_tiv = tiv.TIV.from_pcp(a_min_hpcp)\n",
    "c_sharp_maj_tiv = tiv.TIV.from_pcp(c_sharp_maj_hpcp)\n",
    "d_sharp_min_tiv = tiv.TIV.from_pcp(d_sharp_min_hpcp)\n"
   ]
  },
  {
   "cell_type": "code",
   "execution_count": 5,
   "metadata": {},
   "outputs": [
    {
     "name": "stdout",
     "output_type": "stream",
     "text": [
      "CMaj TIV.mag\n",
      "[0.56551284 1.51737116 1.88691636 3.66442848 2.17161312 1.25930228]\n",
      "TIV weights\n",
      "[3, 8, 11.5, 15, 14.5, 7.5]\n",
      "CMaj TIV.phases\n",
      "[ 1.12029624 -2.8503086   2.98669442  2.39079654  0.08186771  0.        ]\n",
      "CMaj diatonicity\n",
      "0.14976642228434311\n",
      "CMaj wholetoneness\n",
      "0.1679069702336124\n",
      "CMaj chromaticity\n",
      "0.1885042792559685\n"
     ]
    }
   ],
   "source": [
    "#Examples on the magnitude and phase features\n",
    "print(\"CMaj TIV.mag\")\n",
    "print(tiv.mag.mags(c_maj_tiv))\n",
    "print(\"TIV weights\")\n",
    "print(tiv.TIV.weights)\n",
    "print(\"CMaj TIV.phases\")\n",
    "print(tiv.phases(c_maj_tiv))\n",
    "print(\"CMaj diatonicity\")\n",
    "print(tiv.mag.diatonicity(c_maj_tiv))\n",
    "print(\"CMaj wholetoneness\")\n",
    "print(tiv.mag.wholetoneness(c_maj_tiv))\n",
    "print(\"CMaj chromaticity\")\n",
    "print(tiv.mag.chromaticity(c_maj_tiv))"
   ]
  },
  {
   "cell_type": "code",
   "execution_count": 6,
   "metadata": {},
   "outputs": [
    {
     "name": "stdout",
     "output_type": "stream",
     "text": [
      "CMaj from Temperley profiles and the Shaath\n",
      "('d', 'min')\n",
      "('g', 'min')\n",
      "GMaj from Temperley profiles and the Shaath\n",
      "('bb', 'min')\n",
      "('bb', 'min')\n",
      "Amin from Temperley profiles and the Shaath\n",
      "('c', 'maj')\n",
      "('c', 'maj')\n",
      "C#Maj from Temperley profiles and the Shaath\n",
      "('eb', 'min')\n",
      "('ab', 'min')\n",
      "D#min from Temperley profiles and the Shaath\n",
      "('bb', 'min')\n",
      "('gb', 'min')\n"
     ]
    }
   ],
   "source": [
    "#Example on extracting keys\n",
    "#Values are not the same as before\n",
    "print(\"CMaj from Temperley profiles and the Shaath\")\n",
    "print(tiv.key(c_maj_tiv, mode='temperley'))\n",
    "print(tiv.key(c_maj_tiv, mode='shaath'))\n",
    "print(\"GMaj from Temperley profiles and the Shaath\")\n",
    "print(tiv.key(g_maj_tiv, mode='temperley'))\n",
    "print(tiv.key(g_maj_tiv, mode='shaath'))\n",
    "print(\"Amin from Temperley profiles and the Shaath\")\n",
    "print(tiv.key(a_min_tiv, mode='temperley'))\n",
    "print(tiv.key(a_min_tiv, mode='shaath'))\n",
    "print(\"C#Maj from Temperley profiles and the Shaath\")\n",
    "print(tiv.key(c_sharp_maj_tiv, mode='temperley'))\n",
    "print(tiv.key(c_sharp_maj_tiv, mode='shaath'))\n",
    "print(\"D#min from Temperley profiles and the Shaath\")\n",
    "print(tiv.key(d_sharp_min_tiv, mode='temperley'))\n",
    "print(tiv.key(d_sharp_min_tiv, mode='shaath'))"
   ]
  },
  {
   "cell_type": "code",
   "execution_count": 7,
   "metadata": {},
   "outputs": [
    {
     "name": "stdout",
     "output_type": "stream",
     "text": [
      "Dissonance CMaj + GMaj\n",
      "0.795977439757471\n",
      "Dissonance CMaj + Amin\n",
      "0.7996018849508947\n",
      "Dissonance CMaj + C#Maj\n",
      "0.863371569918294\n",
      "Dissonance CMaj + D#min\n",
      "0.9067660677290184\n"
     ]
    }
   ],
   "source": [
    "#Example on combining sounds and evaluate its dissonance\n",
    "combined_GM = tiv.combine(c_maj_tiv, g_maj_tiv)\n",
    "combined_Am = tiv.combine(c_maj_tiv, a_min_tiv)\n",
    "combined_CSM = tiv.combine(c_maj_tiv, c_sharp_maj_tiv)\n",
    "combined_DSm = tiv.combine(c_maj_tiv, d_sharp_min_tiv)\n",
    "\n",
    "print(\"Dissonance CMaj + GMaj\")\n",
    "print(tiv.dissonance(combined_GM))\n",
    "print(\"Dissonance CMaj + Amin\")\n",
    "print(tiv.dissonance(combined_Am))\n",
    "print(\"Dissonance CMaj + C#Maj\")\n",
    "print(tiv.dissonance(combined_CSM))\n",
    "print(\"Dissonance CMaj + D#min\")\n",
    "print(tiv.dissonance(combined_DSm))"
   ]
  },
  {
   "cell_type": "code",
   "execution_count": 8,
   "metadata": {},
   "outputs": [
    {
     "name": "stdout",
     "output_type": "stream",
     "text": [
      "Euclidean and cosine distance between CMaj and GMaj\n",
      "8.920390652512383\n",
      "1.3089079886766202\n",
      "Euclidean and cosine distance between CMaj and AMin\n",
      "20.030842685142055\n",
      "1.7762568705724326\n",
      "Euclidean and cosine distance between CMaj and C#Maj\n",
      "5.916414793890325\n",
      "1.355912999342637\n",
      "Euclidean and cosine distance between CMaj and D#min\n",
      "7.81641512070811\n",
      "2.0049954793886138\n"
     ]
    }
   ],
   "source": [
    "#Example on calculating the distances between sounds\n",
    "print(\"Euclidean and cosine distance between CMaj and GMaj\")\n",
    "print(tiv.distances.euclidean(c_maj_tiv,g_maj_tiv))\n",
    "print(tiv.distances.cosine(c_maj_tiv,g_maj_tiv))\n",
    "\n",
    "print(\"Euclidean and cosine distance between CMaj and AMin\")\n",
    "print(tiv.distances.euclidean(c_maj_tiv,a_min_tiv))\n",
    "print(tiv.distances.cosine(c_maj_tiv,a_min_tiv))\n",
    "\n",
    "print(\"Euclidean and cosine distance between CMaj and C#Maj\")\n",
    "print(tiv.distances.euclidean(c_maj_tiv,c_sharp_maj_tiv))\n",
    "print(tiv.distances.cosine(c_maj_tiv,c_sharp_maj_tiv))\n",
    "\n",
    "print(\"Euclidean and cosine distance between CMaj and D#min\")\n",
    "print(tiv.distances.euclidean(c_maj_tiv,d_sharp_min_tiv))\n",
    "print(tiv.distances.cosine(c_maj_tiv,d_sharp_min_tiv))\n"
   ]
  },
  {
   "cell_type": "code",
   "execution_count": 10,
   "metadata": {},
   "outputs": [
    {
     "data": {
      "image/png": "[encoded data removed]",
      "text/plain": [
       "<Figure size 432x288 with 1 Axes>"
      ]
     },
     "metadata": {
      "needs_background": "light"
     },
     "output_type": "display_data"
    },
    {
     "name": "stderr",
     "output_type": "stream",
     "text": [
      "/home/aframires/.local/lib/python3.6/site-packages/numpy/core/_asarray.py:85: ComplexWarning: Casting complex values to real discards the imaginary part\n",
      "  return array(a, dtype, copy=False, order=order)\n"
     ]
    },
    {
     "data": {
      "image/png": "[encoded data removed]",
      "text/plain": [
       "<Figure size 432x288 with 1 Axes>"
      ]
     },
     "metadata": {
      "needs_background": "light"
     },
     "output_type": "display_data"
    },
    {
     "data": {
      "image/png": "[encoded data removed]",
      "text/plain": [
       "<Figure size 432x288 with 1 Axes>"
      ]
     },
     "metadata": {
      "needs_background": "light"
     },
     "output_type": "display_data"
    },
    {
     "data": {
      "image/png": "[encoded data removed]",
      "text/plain": [
       "<Figure size 432x288 with 1 Axes>"
      ]
     },
     "metadata": {
      "needs_background": "light"
     },
     "output_type": "display_data"
    },
    {
     "name": "stdout",
     "output_type": "stream",
     "text": [
      "tiv.mag: [ 0.0220785   7.89372815  0.26226169 14.42813166  0.59960706  7.12468006]\n",
      "tiv.phases: [-2.2928869  -2.10561931  0.62316499  2.08204292 -1.94468129  0.        ]\n",
      "tiv.diatonicity: 0.041352211011223515\n",
      "tiv.wholetoneness: 0.9499573412048802\n",
      "tiv.chromacity: 0.007359499029499668\n",
      "tiv.phases: [-2.2928869  -2.10561931  0.62316499  2.08204292 -1.94468129  0.        ]\n",
      "tiv.dissonance: 0.3205335780471672\n",
      "tiv.key(temperley): ('C', 'maj')\n",
      "tiv.key(shaath): ('ab', 'min')\n",
      "tiv.distances.euclidean: 12.334060476980932\n",
      "tiv.distances.cosine: 0.7393358169379687\n"
     ]
    }
   ],
   "source": [
    "#Testing\n",
    "\n",
    "%matplotlib inline\n",
    "import matplotlib.pyplot as plt\n",
    "\n",
    "\n",
    "\n",
    "metal = \"./audio_files/metal.wav\"\n",
    "glass = \"./audio_files/glass.wav\"\n",
    "\n",
    "metal_hpcp = file_to_hpcp(metal)\n",
    "glass_hpcp = file_to_hpcp(glass)\n",
    "\n",
    "metal_tiv = tiv.TIV.from_pcp(metal_hpcp)\n",
    "glass_tiv = tiv.TIV.from_pcp(glass_hpcp)\n",
    "\n",
    "plt.figure(1)\n",
    "plt.title('HPCP Metal')\n",
    "plt.plot(metal_hpcp/np.sum(metal_hpcp))\n",
    "plt.show()\n",
    "\n",
    "plt.figure(2)\n",
    "plt.title('TIV Metal')\n",
    "plt.plot(metal_tiv.vector)\n",
    "plt.show()\n",
    "\n",
    "plt.figure(3)\n",
    "plt.title('HPCP Glass')\n",
    "plt.plot(glass_hpcp/np.sum(glass_hpcp))\n",
    "plt.show()\n",
    "\n",
    "plt.figure(4)\n",
    "plt.title('TIV Glass')\n",
    "plt.plot(glass_tiv.vector)\n",
    "plt.show()\n",
    "\n",
    "print(\"tiv.mag: \" + str(tiv.mag.mags(glass_tiv)))\n",
    "print(\"tiv.phases: \" + str(tiv.phases(glass_tiv)))\n",
    "print(\"tiv.diatonicity: \" + str(tiv.mag.diatonicity(glass_tiv)))\n",
    "print(\"tiv.wholetoneness: \" + str(tiv.mag.wholetoneness(glass_tiv)))\n",
    "print(\"tiv.chromacity: \" + str(tiv.mag.chromaticity(glass_tiv)))\n",
    "print(\"tiv.phases: \" + str(tiv.phases(glass_tiv)))\n",
    "print(\"tiv.dissonance: \" + str(tiv.dissonance(glass_tiv)))\n",
    "print(\"tiv.key(temperley): \" + str(tiv.key(glass_tiv)))\n",
    "print(\"tiv.key(shaath): \" + str(tiv.key(glass_tiv,mode='shaath')))\n",
    "print(\"tiv.distances.euclidean: \" + str(tiv.distances.euclidean(glass_tiv, metal_tiv)))\n",
    "print(\"tiv.distances.cosine: \" + str(tiv.distances.cosine(glass_tiv, metal_tiv)))"
   ]
  },
  {
   "cell_type": "code",
   "execution_count": null,
   "metadata": {},
   "outputs": [],
   "source": []
  }
 ],
 "metadata": {
  "kernelspec": {
   "display_name": "Python 3",
   "language": "python",
   "name": "python3"
  },
  "language_info": {
   "codemirror_mode": {
    "name": "ipython",
    "version": 3
   },
   "file_extension": ".py",
   "mimetype": "text/x-python",
   "name": "python",
   "nbconvert_exporter": "python",
   "pygments_lexer": "ipython3",
   "version": "3.7.4"
  },
  "pycharm": {
   "stem_cell": {
    "cell_type": "raw",
    "metadata": {
     "collapsed": false
    },
    "source": [
     "\n",
     "\n",
     "%Using essentia for HPCP\n",
     "\n",
     "from essentia.standard import MonoLoader, Windowing, Spectrum, SpectralPeaks, FrameGenerator, HPCP\n",
     "\n",
     "def file_to_hpcp(filename, plot=True):\n",
     "  audio = MonoLoader(filename=filename)()\n",
     "  if(plot):\n",
     "    IPython.display.display(IPython.display.Audio(audio,rate=44100))\n",
     "\n",
     "    plt.figure(1)\n",
     "    plt.title('Waveform of the sound')\n",
     "    plt.plot(audio)\n",
     "    plt.show()\n",
     "\n",
     "\n",
     "  windowing = Windowing(type='blackmanharris62')\n",
     "  spectrum = Spectrum()\n",
     "  spectral_peaks = SpectralPeaks(orderBy='magnitude',\n",
     "                                    magnitudeThreshold=0.001,\n",
     "                                    maxPeaks=20,\n",
     "                                    minFrequency=20,\n",
     "                                    maxFrequency=8000)\n",
     "  hpcp = HPCP(maxFrequency=8000,\n",
     "              normalized='unitSum')\n",
     "\n",
     "  spec_group = []\n",
     "  hpcp_group = []\n",
     "\n",
     "\n",
     "  for frame in FrameGenerator(audio,frameSize=1024,hopSize=512):\n",
     "    windowed = windowing(frame)\n",
     "    fft = spectrum(windowed)\n",
     "    frequencies, magnitudes = spectral_peaks(fft)\n",
     "    final_hpcp = hpcp(frequencies, magnitudes)\n",
     "\n",
     "    spec_group.append(fft)\n",
     "    hpcp_group.append(final_hpcp)\n",
     "    \n",
     "  mean_hpcp = np.mean(np.array(hpcp_group).T, axis = 1)\n",
     "  #normalize to 1\n",
     "  mean_hpcp = mean_hpcp/sum(mean_hpcp)\n",
     "\n",
     "  if(plot):\n",
     "    plt.figure(2)\n",
     "    plt.title('FFT of the sound')\n",
     "    plt.imshow(np.array(spec_group).T,aspect='auto', origin='lower', interpolation='none')\n",
     "    plt.show()\n",
     "\n",
     "\n",
     "    plt.figure(3)\n",
     "    plt.title('Normalized HPCP of the sound')\n",
     "    plt.imshow(np.array(hpcp_group).T,aspect='auto', origin='lower', interpolation='none')\n",
     "    plt.show()\n",
     "    \n",
     "    plt.figure(3)\n",
     "    plt.title('Mean HPCP of the sound')\n",
     "    plt.plot(mean_hpcp)\n",
     "    plt.show()\n",
     "\n",
     "    print (mean_hpcp)\n",
     "    \n",
     "  return mean_hpcp\n",
     "\n",
     "% Using librosa for chroma\n"
    ]
   }
  }
 },
 "nbformat": 4,
 "nbformat_minor": 1
}
